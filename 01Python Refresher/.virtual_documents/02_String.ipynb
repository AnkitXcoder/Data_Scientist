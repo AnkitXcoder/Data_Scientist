# enclose in a ' ' or " "

name='Ankit'
naam="Ankita"

print(name, naam)


name.upper()



name.endswith("it")


name.count("a")


name.count("A")


print(len(name))


name[0,3]


name[0:3]


# Negative Index



s="Ankiit"
print(len(s))


s[1:-1]


s[0:-1]


s[0:-4]


s[-1:-3]


s[1:3]


s[3:1]


# fun with index


l="iloveIndia"
print(len(l))


l[1:9]


l[-9:-1]






