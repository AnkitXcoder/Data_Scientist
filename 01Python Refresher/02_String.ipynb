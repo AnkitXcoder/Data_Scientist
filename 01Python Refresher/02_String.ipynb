{
 "cells": [
  {
   "cell_type": "code",
   "execution_count": 9,
   "id": "18b3637d-b327-4362-b0db-5f310c4d931c",
   "metadata": {},
   "outputs": [
    {
     "name": "stdout",
     "output_type": "stream",
     "text": [
      "Ankit Ankita\n"
     ]
    }
   ],
   "source": [
    "# enclose in a ' ' or \" \"\n",
    "\n",
    "name='Ankit'\n",
    "naam=\"Ankita\"\n",
    "\n",
    "print(name, naam)"
   ]
  },
  {
   "cell_type": "code",
   "execution_count": 19,
   "id": "1eed557c-ffb2-4d30-b352-03d470aad645",
   "metadata": {},
   "outputs": [
    {
     "data": {
      "text/plain": [
       "'ANKIT'"
      ]
     },
     "execution_count": 19,
     "metadata": {},
     "output_type": "execute_result"
    }
   ],
   "source": [
    "name.upper()\n"
   ]
  },
  {
   "cell_type": "code",
   "execution_count": 21,
   "id": "ddfc7338-fbf2-4482-b9df-1dad250f2c6d",
   "metadata": {},
   "outputs": [
    {
     "data": {
      "text/plain": [
       "True"
      ]
     },
     "execution_count": 21,
     "metadata": {},
     "output_type": "execute_result"
    }
   ],
   "source": [
    "name.endswith(\"it\")"
   ]
  },
  {
   "cell_type": "code",
   "execution_count": 23,
   "id": "33f7d98c-ec73-497c-8aed-d67e7c44f1c7",
   "metadata": {},
   "outputs": [
    {
     "data": {
      "text/plain": [
       "0"
      ]
     },
     "execution_count": 23,
     "metadata": {},
     "output_type": "execute_result"
    }
   ],
   "source": [
    "name.count(\"a\")"
   ]
  },
  {
   "cell_type": "code",
   "execution_count": 25,
   "id": "fa27e49f-ad46-4d78-8220-fbd46665eaa7",
   "metadata": {},
   "outputs": [
    {
     "data": {
      "text/plain": [
       "1"
      ]
     },
     "execution_count": 25,
     "metadata": {},
     "output_type": "execute_result"
    }
   ],
   "source": [
    "name.count(\"A\")"
   ]
  },
  {
   "cell_type": "code",
   "execution_count": 27,
   "id": "ff173ec4-8eb6-42f2-be53-fc05b2a82615",
   "metadata": {},
   "outputs": [
    {
     "name": "stdout",
     "output_type": "stream",
     "text": [
      "5\n"
     ]
    }
   ],
   "source": [
    "print(len(name))"
   ]
  },
  {
   "cell_type": "code",
   "execution_count": 29,
   "id": "2442ee06-2320-448f-a2e3-e5e774fd8274",
   "metadata": {},
   "outputs": [
    {
     "ename": "TypeError",
     "evalue": "string indices must be integers, not 'tuple'",
     "output_type": "error",
     "traceback": [
      "\u001b[1;31m---------------------------------------------------------------------------\u001b[0m",
      "\u001b[1;31mTypeError\u001b[0m                                 Traceback (most recent call last)",
      "Cell \u001b[1;32mIn[29], line 1\u001b[0m\n\u001b[1;32m----> 1\u001b[0m name[\u001b[38;5;241m0\u001b[39m,\u001b[38;5;241m3\u001b[39m]\n",
      "\u001b[1;31mTypeError\u001b[0m: string indices must be integers, not 'tuple'"
     ]
    }
   ],
   "source": [
    "name[0,3]"
   ]
  },
  {
   "cell_type": "code",
   "execution_count": 31,
   "id": "eb1ad9c2-eb21-4805-a537-662c01219a18",
   "metadata": {},
   "outputs": [
    {
     "data": {
      "text/plain": [
       "'Ank'"
      ]
     },
     "execution_count": 31,
     "metadata": {},
     "output_type": "execute_result"
    }
   ],
   "source": [
    "name[0:3]"
   ]
  },
  {
   "cell_type": "code",
   "execution_count": 33,
   "id": "f7f8f5f0-6138-4a78-8eab-16f3bd07dd1e",
   "metadata": {},
   "outputs": [],
   "source": [
    "# Negative Index\n"
   ]
  },
  {
   "cell_type": "code",
   "execution_count": 55,
   "id": "06240573-8d0f-40c8-b0ad-f99694656991",
   "metadata": {},
   "outputs": [
    {
     "name": "stdout",
     "output_type": "stream",
     "text": [
      "6\n"
     ]
    }
   ],
   "source": [
    "s=\"Ankiit\"\n",
    "print(len(s))"
   ]
  },
  {
   "cell_type": "code",
   "execution_count": 57,
   "id": "9f461b5d-7ba9-4c91-be84-514c6e9edb93",
   "metadata": {},
   "outputs": [
    {
     "data": {
      "text/plain": [
       "'nkii'"
      ]
     },
     "execution_count": 57,
     "metadata": {},
     "output_type": "execute_result"
    }
   ],
   "source": [
    "s[1:-1]"
   ]
  },
  {
   "cell_type": "code",
   "execution_count": 59,
   "id": "9c751e6f-ca3f-4a01-ae95-a4f51c6ce8d0",
   "metadata": {},
   "outputs": [
    {
     "data": {
      "text/plain": [
       "'Ankii'"
      ]
     },
     "execution_count": 59,
     "metadata": {},
     "output_type": "execute_result"
    }
   ],
   "source": [
    "s[0:-1]"
   ]
  },
  {
   "cell_type": "code",
   "execution_count": 61,
   "id": "99d39d60-6d61-4b58-9647-2308a209e018",
   "metadata": {},
   "outputs": [
    {
     "data": {
      "text/plain": [
       "'An'"
      ]
     },
     "execution_count": 61,
     "metadata": {},
     "output_type": "execute_result"
    }
   ],
   "source": [
    "s[0:-4]"
   ]
  },
  {
   "cell_type": "code",
   "execution_count": 71,
   "id": "ac0b606a-7dab-4e71-bf34-62160ab62d0a",
   "metadata": {},
   "outputs": [
    {
     "data": {
      "text/plain": [
       "''"
      ]
     },
     "execution_count": 71,
     "metadata": {},
     "output_type": "execute_result"
    }
   ],
   "source": [
    "s[-1:-3]"
   ]
  },
  {
   "cell_type": "code",
   "execution_count": 73,
   "id": "0ca5cd16-b633-4bde-bc86-8df247cb93c0",
   "metadata": {},
   "outputs": [
    {
     "data": {
      "text/plain": [
       "'nk'"
      ]
     },
     "execution_count": 73,
     "metadata": {},
     "output_type": "execute_result"
    }
   ],
   "source": [
    "s[1:3]"
   ]
  },
  {
   "cell_type": "code",
   "execution_count": 75,
   "id": "642a9459-c0a3-4714-ae6f-f6f5932fbe2d",
   "metadata": {},
   "outputs": [
    {
     "data": {
      "text/plain": [
       "''"
      ]
     },
     "execution_count": 75,
     "metadata": {},
     "output_type": "execute_result"
    }
   ],
   "source": [
    "s[3:1]"
   ]
  },
  {
   "cell_type": "code",
   "execution_count": 77,
   "id": "764e8c8b-9359-4772-a902-fbbd4ffbb0a4",
   "metadata": {},
   "outputs": [],
   "source": [
    "# fun with index"
   ]
  },
  {
   "cell_type": "code",
   "execution_count": 81,
   "id": "0eb5fc1e-b327-4a60-a853-e18d58a46bd0",
   "metadata": {},
   "outputs": [
    {
     "name": "stdout",
     "output_type": "stream",
     "text": [
      "10\n"
     ]
    }
   ],
   "source": [
    "l=\"iloveIndia\"\n",
    "print(len(l))"
   ]
  },
  {
   "cell_type": "code",
   "execution_count": 83,
   "id": "42f215a5-36db-4ad4-93c2-bbf973375d6f",
   "metadata": {},
   "outputs": [
    {
     "data": {
      "text/plain": [
       "'loveIndi'"
      ]
     },
     "execution_count": 83,
     "metadata": {},
     "output_type": "execute_result"
    }
   ],
   "source": [
    "l[1:9]"
   ]
  },
  {
   "cell_type": "code",
   "execution_count": 85,
   "id": "b449a20e-b558-4ded-bdc8-24e9bcbc239d",
   "metadata": {},
   "outputs": [
    {
     "data": {
      "text/plain": [
       "'loveIndi'"
      ]
     },
     "execution_count": 85,
     "metadata": {},
     "output_type": "execute_result"
    }
   ],
   "source": [
    "l[-9:-1]"
   ]
  },
  {
   "cell_type": "code",
   "execution_count": null,
   "id": "05cc7a1d-4d08-4b63-ac7a-8aa136ecdfd1",
   "metadata": {},
   "outputs": [],
   "source": []
  },
  {
   "cell_type": "code",
   "execution_count": null,
   "id": "711c9000-7e8e-4ca9-bf04-ad8e82b5c05a",
   "metadata": {},
   "outputs": [],
   "source": []
  }
 ],
 "metadata": {
  "kernelspec": {
   "display_name": "Python [conda env:base] *",
   "language": "python",
   "name": "conda-base-py"
  },
  "language_info": {
   "codemirror_mode": {
    "name": "ipython",
    "version": 3
   },
   "file_extension": ".py",
   "mimetype": "text/x-python",
   "name": "python",
   "nbconvert_exporter": "python",
   "pygments_lexer": "ipython3",
   "version": "3.12.7"
  }
 },
 "nbformat": 4,
 "nbformat_minor": 5
}
