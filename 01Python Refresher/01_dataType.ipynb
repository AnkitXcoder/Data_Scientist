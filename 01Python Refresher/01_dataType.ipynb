{
 "cells": [
  {
   "cell_type": "code",
   "execution_count": 46,
   "id": "d1e1fab3-5faa-4ccb-9919-73abc7c93654",
   "metadata": {},
   "outputs": [
    {
     "data": {
      "text/plain": [
       "4"
      ]
     },
     "execution_count": 46,
     "metadata": {},
     "output_type": "execute_result"
    }
   ],
   "source": [
    "a= 2\n",
    "b= 2\n",
    "a+b"
   ]
  },
  {
   "cell_type": "code",
   "execution_count": 48,
   "id": "e4345498-f248-4eef-bd7c-a856451ea0db",
   "metadata": {},
   "outputs": [
    {
     "data": {
      "text/plain": [
       "5.4"
      ]
     },
     "execution_count": 48,
     "metadata": {},
     "output_type": "execute_result"
    }
   ],
   "source": [
    "a=3.4\n",
    "b=2\n",
    "a+b"
   ]
  },
  {
   "cell_type": "code",
   "execution_count": 50,
   "id": "2217b171-805a-4b7d-8266-f8d721fb5b35",
   "metadata": {},
   "outputs": [
    {
     "data": {
      "text/plain": [
       "list[3, 2, 1]"
      ]
     },
     "execution_count": 50,
     "metadata": {},
     "output_type": "execute_result"
    }
   ],
   "source": [
    "list [ 1,2,3]\n",
    "list[3,2,1      # here Not Add , It will update"
   ]
  },
  {
   "cell_type": "code",
   "execution_count": 52,
   "id": "46daa80d-b71a-48b9-8de8-d64e9faf1842",
   "metadata": {},
   "outputs": [],
   "source": [
    "# Type Casting"
   ]
  },
  {
   "cell_type": "code",
   "execution_count": 62,
   "id": "2d8dfda3-b940-4bf8-bd52-b79cddd2ac7d",
   "metadata": {},
   "outputs": [
    {
     "name": "stdout",
     "output_type": "stream",
     "text": [
      "20\n"
     ]
    }
   ],
   "source": [
    "a=\"10\"\n",
    "b=10\n",
    "a=int(a)\n",
    "\n",
    "print(a+b)"
   ]
  },
  {
   "cell_type": "code",
   "execution_count": 74,
   "id": "20305e53-9a43-472a-8c39-dc95cc356662",
   "metadata": {},
   "outputs": [
    {
     "name": "stdout",
     "output_type": "stream",
     "text": [
      "Ankit10\n"
     ]
    }
   ],
   "source": [
    "x=10\n",
    "y=\"Ankit\"\n",
    "x=str(10)\n",
    "print(y+x)\n",
    "\n",
    "     "
   ]
  },
  {
   "cell_type": "code",
   "execution_count": 76,
   "id": "57cc609b-1b52-4537-a60a-361e844ed611",
   "metadata": {},
   "outputs": [
    {
     "name": "stdout",
     "output_type": "stream",
     "text": [
      "['A', 'n', 'k', 'i', 't']\n"
     ]
    }
   ],
   "source": [
    "name=\"Ankit\"\n",
    "print(list(name))"
   ]
  },
  {
   "cell_type": "code",
   "execution_count": 78,
   "id": "7e0493f5-c6d8-4029-9c19-4593b22c8a89",
   "metadata": {},
   "outputs": [
    {
     "name": "stdout",
     "output_type": "stream",
     "text": [
      "('A', 'n', 'k', 'i', 't')\n"
     ]
    }
   ],
   "source": [
    "name=\"Ankit\"\n",
    "print(tuple(name))"
   ]
  },
  {
   "cell_type": "code",
   "execution_count": null,
   "id": "13dfaa7d-d45b-4a21-9914-a9813a933dd3",
   "metadata": {},
   "outputs": [],
   "source": []
  }
 ],
 "metadata": {
  "kernelspec": {
   "display_name": "Python [conda env:base] *",
   "language": "python",
   "name": "conda-base-py"
  },
  "language_info": {
   "codemirror_mode": {
    "name": "ipython",
    "version": 3
   },
   "file_extension": ".py",
   "mimetype": "text/x-python",
   "name": "python",
   "nbconvert_exporter": "python",
   "pygments_lexer": "ipython3",
   "version": "3.12.7"
  }
 },
 "nbformat": 4,
 "nbformat_minor": 5
}
