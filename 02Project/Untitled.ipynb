{
 "cells": [
  {
   "cell_type": "code",
   "execution_count": 1,
   "id": "7a5c2ad5-5589-413b-9e24-c62be485e5eb",
   "metadata": {},
   "outputs": [],
   "source": [
    "import json"
   ]
  },
  {
   "cell_type": "code",
   "execution_count": 15,
   "id": "15b68889-b5d1-4931-b9d7-2380eed4c9d2",
   "metadata": {},
   "outputs": [],
   "source": [
    "def load_my_data(filename):\n",
    "    with open(filename,\"r\") as f:\n",
    "        my_data = json.load(f)\n",
    "        return my_data"
   ]
  },
  {
   "cell_type": "code",
   "execution_count": 20,
   "id": "69dfced5-88d8-4a3f-86b9-2e54a46456df",
   "metadata": {},
   "outputs": [
    {
     "name": "stdout",
     "output_type": "stream",
     "text": [
      "{'name': 'Example Project', 'version': '1.0', 'contributors': [{'name': 'Alice', 'email': 'alice@example.com'}, {'name': 'Bob', 'email': 'bob@example.com'}], 'settings': {'enabled': True, 'threshold': 0.75, 'tags': None}}\n"
     ]
    }
   ],
   "source": [
    "#to see json data load or not \n",
    "data = load_my_data(\"my_data.json\")\n",
    "print(data)"
   ]
  },
  {
   "cell_type": "code",
   "execution_count": null,
   "id": "7bed5b30-5567-44d8-8767-57c5cf9462da",
   "metadata": {},
   "outputs": [],
   "source": []
  },
  {
   "cell_type": "code",
   "execution_count": null,
   "id": "48cdc501-91bb-4029-b9e8-0209ff2f11df",
   "metadata": {},
   "outputs": [],
   "source": []
  }
 ],
 "metadata": {
  "kernelspec": {
   "display_name": "Python [conda env:base] *",
   "language": "python",
   "name": "conda-base-py"
  },
  "language_info": {
   "codemirror_mode": {
    "name": "ipython",
    "version": 3
   },
   "file_extension": ".py",
   "mimetype": "text/x-python",
   "name": "python",
   "nbconvert_exporter": "python",
   "pygments_lexer": "ipython3",
   "version": "3.12.7"
  }
 },
 "nbformat": 4,
 "nbformat_minor": 5
}
