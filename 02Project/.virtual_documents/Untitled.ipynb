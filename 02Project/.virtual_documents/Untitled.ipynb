import json


def load_my_data(filename):
    with open(filename,"r") as f:
        my_data = json.load(f)
        return my_data


#to see json data load or not 
data = load_my_data("my_data.json")






