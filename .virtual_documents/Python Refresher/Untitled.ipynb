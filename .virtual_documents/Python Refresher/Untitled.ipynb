a=5


b=3



a+b





print(name)


name="Ankit"


print(name)



