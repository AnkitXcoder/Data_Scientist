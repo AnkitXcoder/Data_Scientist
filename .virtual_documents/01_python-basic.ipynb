a=5


b=35


a+b


name = "ankit"


print("hellow world") #this will print hello worls


#this is a comment


print(type(a))


print(type(name)





print(type(name))


type(name)


a="456"


b="254"


print(a+b)


print(int(a)+int(b)) #typecasting



